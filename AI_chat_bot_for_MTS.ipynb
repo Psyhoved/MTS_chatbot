{
  "cells": [
    {
      "cell_type": "markdown",
      "metadata": {
        "id": "view-in-github",
        "colab_type": "text"
      },
      "source": [
        "<a href=\"https://colab.research.google.com/github/Psyhoved/MTS_chatbot/blob/main/AI_chat_bot_for_MTS.ipynb\" target=\"_parent\"><img src=\"https://colab.research.google.com/assets/colab-badge.svg\" alt=\"Open In Colab\"/></a>"
      ]
    },
    {
      "cell_type": "code",
      "execution_count": null,
      "metadata": {
        "id": "udFz2NpdeXRw"
      },
      "outputs": [],
      "source": [
        "!pip install llama-index\n",
        "!pip install langchain"
      ]
    },
    {
      "cell_type": "code",
      "execution_count": 33,
      "metadata": {
        "id": "nuyAKDcyea6-"
      },
      "outputs": [],
      "source": [
        "from langchain import OpenAI\n",
        "from llama_index import SimpleDirectoryReader, LangchainEmbedding, GPTListIndex, PromptHelper, GPTVectorStoreIndex\n",
        "from llama_index import LLMPredictor, ServiceContext\n",
        "from llama_index import StorageContext, load_index_from_storage\n",
        "import sys\n",
        "from google.colab import drive\n",
        "import os\n",
        "import warnings\n",
        "warnings.filterwarnings('ignore')"
      ]
    },
    {
      "cell_type": "code",
      "execution_count": null,
      "metadata": {
        "id": "j6yx6eHDia8G"
      },
      "outputs": [],
      "source": [
        "os.environ[\"OPENAI_API_KEY\"] = input('Введите ваш API-ключ от Open AI: ')"
      ]
    },
    {
      "cell_type": "markdown",
      "metadata": {
        "id": "fdt5GpWDIaGQ"
      },
      "source": [
        "Создаем index контекста, то есть векторизуем его с помощью библиотек Open AI"
      ]
    },
    {
      "cell_type": "code",
      "execution_count": 38,
      "metadata": {
        "id": "MmoQ0jSRZXhj"
      },
      "outputs": [],
      "source": [
        "def construct_index(directory_path):\n",
        "  # set maximum input size\n",
        "  max_input_size = 4096\n",
        "  # set number of output tokens\n",
        "  num_outputs = 128\n",
        "  # set maximum chunk overlap\n",
        "  max_chunk_overlap = 0.9\n",
        "  # set chunk size limit\n",
        "  chunk_size_limit = 600\n",
        "\n",
        "  prompt_helper = PromptHelper(max_input_size, num_outputs, max_chunk_overlap, chunk_size_limit=chunk_size_limit)\n",
        "\n",
        "  # define LLM\n",
        "  llm_predictor = LLMPredictor(llm=OpenAI(temperature=0.5, model_name=\"gpt-3.5-turbo\", max_tokens=num_outputs))\n",
        "\n",
        "  documents = SimpleDirectoryReader(directory_path).load_data()\n",
        "\n",
        "  service_context = ServiceContext.from_defaults(llm_predictor=llm_predictor)\n",
        "  index = GPTVectorStoreIndex.from_documents(documents, service_context=service_context, prompt_helper=prompt_helper)\n",
        "\n",
        "  index.storage_context.persist(persist_dir=\"index.json\")\n",
        "\n",
        "  return index"
      ]
    },
    {
      "cell_type": "markdown",
      "metadata": {
        "id": "j5z4g9TsIkX1"
      },
      "source": [
        "Функция для проверки языка ответа, чтобы заставить chatGPT перевести, если он вдруг ответит на английском"
      ]
    },
    {
      "cell_type": "code",
      "execution_count": 39,
      "metadata": {
        "id": "Hbd4UDyfIP21"
      },
      "outputs": [],
      "source": [
        "import re\n",
        "def check_russian(text: str) -> bool:\n",
        "  return bool(re.search('[а-яА-Я]', text))"
      ]
    },
    {
      "cell_type": "markdown",
      "source": [
        "Основная функция для общения с чат-ботом"
      ],
      "metadata": {
        "id": "LaRAkhR_tKMX"
      }
    },
    {
      "cell_type": "code",
      "execution_count": 40,
      "metadata": {
        "id": "GW1tTw2VeWgS"
      },
      "outputs": [],
      "source": [
        "def ask_bot(input_index = 'index.json'):\n",
        "  storage_context = StorageContext.from_defaults(persist_dir=input_index )\n",
        "  # load index\n",
        "  index = load_index_from_storage(storage_context)\n",
        "  memory = 'Здравствуйте, чем я могу вам помочь?'\n",
        "  print(\"AI-помощник от МТС: \" + memory)\n",
        "  instruction = 'Ты - чат-бот Светлана, ты девушка, и работаешь на сайте МТС \"Мобильные сотрудники\", твоя функция - стараться ответить на любой вопрос клиента. Отвечай весело, позитивно, можешь шутить. Используй в ответах только русский язык! Не отвечай на английском! Если вопрос не касается контекста, то вежливо и дружелюбно переведи тему и расскажи про сервис Мобильные сотрудники, МТС Координатор и МТС Трекер! Отвечай на вопросы про сервис Мобильные сотрудники, МТС Координатор и МТС Трекер. Не используй слово \"контекст\".'\n",
        "  memory =  instruction + memory\n",
        "  while True:\n",
        "    query_engine = index.as_query_engine()\n",
        "    query = input('Клиент: ')\n",
        "    response = query_engine.query(memory + query + ' Ответь на последний вопрос или позитивно поддержи диалог')\n",
        "    if not response.response:\n",
        "        print(\"\\nAI-помощник от МТС: Не поняла Вашего вопроса. Напишите, пожалуйста, точнее, чтобы Вы хотели узнать.\\n\")\n",
        "    elif not check_russian(response.response):\n",
        "        response = query_engine.query(memory + query + ' Переведи на русский')\n",
        "        print(\"\\nAI-помощник от МТС: \" + response.response + \"\\n\")\n",
        "        memory = instruction + query + ' ' + response.response\n",
        "    else:\n",
        "        print(\"\\nAI-помощник от МТС: \" + response.response + \"\\n\")\n",
        "        memory = instruction + query + ' ' + response.response\n"
      ]
    },
    {
      "cell_type": "code",
      "execution_count": null,
      "metadata": {
        "id": "ZosZhWwDKJzp"
      },
      "outputs": [],
      "source": [
        "# готовый embedding\n",
        "!git clone https://github.com/Psyhoved/MTS_chatbot/\n",
        "!unzip /content/MTS_chatbot/index.json-20230814T192851Z-001.zip"
      ]
    },
    {
      "cell_type": "code",
      "execution_count": 42,
      "metadata": {
        "id": "gM00_PPYO2PB"
      },
      "outputs": [],
      "source": [
        "# сделать новый embedding контекста\n",
        "# !pip install pypdf\n",
        "# !pip install docx2txt\n",
        "# drive.mount ('/content/gdrive')\n",
        "# index = construct_index(\"/content/gdrive/MyDrive/Colab_Notebooks/docs\")"
      ]
    },
    {
      "cell_type": "code",
      "execution_count": null,
      "metadata": {
        "id": "wOWoWflrP2pO"
      },
      "outputs": [],
      "source": [
        "ask_bot('index.json')"
      ]
    }
  ],
  "metadata": {
    "colab": {
      "provenance": [],
      "include_colab_link": true
    },
    "kernelspec": {
      "display_name": "Python 3",
      "name": "python3"
    },
    "language_info": {
      "name": "python"
    }
  },
  "nbformat": 4,
  "nbformat_minor": 0
}